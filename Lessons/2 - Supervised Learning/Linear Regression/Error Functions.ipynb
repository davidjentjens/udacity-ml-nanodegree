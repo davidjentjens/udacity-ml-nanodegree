{
 "cells": [
  {
   "cell_type": "markdown",
   "metadata": {},
   "source": [
    "# Error functions\n",
    "\n",
    "These are functions used to determine the error of a given regression line. The following are two ways to calculate said error functions given a line functions."
   ]
  },
  {
   "cell_type": "markdown",
   "metadata": {},
   "source": [
    "## Mean Absolute Error:\n",
    "\n",
    "Represents a function for the error of a predicted line through a set of points. It is calculated by the sum of the absolute distances of each point to the linear function, divided by the number of points in the given set.\n",
    "\n",
    "${Error} = \\frac{1}{m} * \\sum \\limits _{i=1} ^{m} |{y}-{\\hat{y}} | $"
   ]
  },
  {
   "cell_type": "markdown",
   "metadata": {},
   "source": [
    "#### Example:"
   ]
  },
  {
   "cell_type": "code",
   "execution_count": 2,
   "metadata": {},
   "outputs": [],
   "source": [
    "def y(x):\n",
    "    return 1.2*x + 2"
   ]
  },
  {
   "cell_type": "code",
   "execution_count": 3,
   "metadata": {},
   "outputs": [],
   "source": [
    "def mean_absolute_error(points):\n",
    "    total = 0\n",
    "    for point in points:\n",
    "        total += abs(point[1] - y(point[0]))\n",
    "    return total/len(points)"
   ]
  },
  {
   "cell_type": "code",
   "execution_count": 4,
   "metadata": {},
   "outputs": [],
   "source": [
    "points = [(2, -2), (5, 6), (-4, -4), (-7, 1), (8, 14)]"
   ]
  },
  {
   "cell_type": "code",
   "execution_count": 5,
   "metadata": {},
   "outputs": [
    {
     "data": {
      "text/plain": [
       "3.88"
      ]
     },
     "execution_count": 5,
     "metadata": {},
     "output_type": "execute_result"
    }
   ],
   "source": [
    "mean_absolute_error(points)"
   ]
  },
  {
   "cell_type": "markdown",
   "metadata": {},
   "source": [
    "## Mean Squared Error:\n",
    "\n",
    "Similar to the mean squared error function, this function also determines the error of a regression line. This one, however, gets the sum of the squares of the distances from points to the line, therefore not requiring absolute distances, since they are squared.\n",
    "\n",
    "${Error} = \\frac{1}{2m} * \\sum \\limits _{i=1} ^{m} ({y}-{\\hat{y}})^2 $"
   ]
  },
  {
   "cell_type": "markdown",
   "metadata": {},
   "source": [
    "#### Example:"
   ]
  },
  {
   "cell_type": "code",
   "execution_count": 7,
   "metadata": {},
   "outputs": [],
   "source": [
    "def y(x):\n",
    "    return 1.2*x + 2"
   ]
  },
  {
   "cell_type": "code",
   "execution_count": 8,
   "metadata": {},
   "outputs": [],
   "source": [
    "def mean_squared_error(points):\n",
    "    total = 0\n",
    "    for point in points:\n",
    "        total += (point[1] - y(point[0])) ** 2\n",
    "    return total/(2*len(points))"
   ]
  },
  {
   "cell_type": "code",
   "execution_count": 9,
   "metadata": {},
   "outputs": [],
   "source": [
    "points = [(2, -2), (5, 6), (-4, -4), (-7, 1), (8, 14)]"
   ]
  },
  {
   "cell_type": "code",
   "execution_count": 10,
   "metadata": {},
   "outputs": [
    {
     "data": {
      "text/plain": [
       "10.692000000000002"
      ]
     },
     "execution_count": 10,
     "metadata": {},
     "output_type": "execute_result"
    }
   ],
   "source": [
    "mean_squared_error(points)"
   ]
  }
 ],
 "metadata": {
  "kernelspec": {
   "display_name": "Python 3",
   "language": "python",
   "name": "python3"
  },
  "language_info": {
   "codemirror_mode": {
    "name": "ipython",
    "version": 3
   },
   "file_extension": ".py",
   "mimetype": "text/x-python",
   "name": "python",
   "nbconvert_exporter": "python",
   "pygments_lexer": "ipython3",
   "version": "3.8.5"
  }
 },
 "nbformat": 4,
 "nbformat_minor": 4
}
