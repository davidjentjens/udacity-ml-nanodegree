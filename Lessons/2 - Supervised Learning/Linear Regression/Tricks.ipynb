{
 "cells": [
  {
   "cell_type": "code",
   "execution_count": 51,
   "metadata": {},
   "outputs": [],
   "source": [
    "# Magic methods here"
   ]
  },
  {
   "cell_type": "code",
   "execution_count": 2,
   "metadata": {},
   "outputs": [],
   "source": [
    "# Imports here\n",
    "import matplotlib.pyplot as plt\n",
    "import numpy as np"
   ]
  },
  {
   "cell_type": "markdown",
   "metadata": {},
   "source": [
    "# Tricks\n",
    "\n",
    "Tricks are ways you can adjust a line to better adjust to a given point in a graph. The following are tricks to rotate and move regression lines according to their target point."
   ]
  },
  {
   "cell_type": "markdown",
   "metadata": {},
   "source": [
    "## Absolute trick\n",
    "\n",
    "Given a point $(p,q)$, and a line $y = w_1x + w_2$, the absolute trick for obtaining the new line is defined by the following equation: $y' = (w_1+p\\alpha)x + (w_2+\\alpha)$, in which $\\alpha$ would be the learning rate. If the point is below the line, the equation becomes $y' = (w_1-p\\alpha)x + (w_2-\\alpha)$."
   ]
  },
  {
   "cell_type": "markdown",
   "metadata": {},
   "source": [
    "#### Example:"
   ]
  },
  {
   "cell_type": "code",
   "execution_count": 2,
   "metadata": {},
   "outputs": [],
   "source": [
    "def y(x):\n",
    "    return -0.1*x + 3.9"
   ]
  },
  {
   "cell_type": "code",
   "execution_count": 3,
   "metadata": {},
   "outputs": [],
   "source": [
    "learning_rate = 0.1\n",
    "\n",
    "def absolute_trick(w1, w2, point):\n",
    "    if(point[1] < y(point[0])):\n",
    "        return (w1 - point[0]*learning_rate, w2-learning_rate)\n",
    "    else:\n",
    "        return (w1 + point[0]*learning_rate, w2+learning_rate)"
   ]
  },
  {
   "cell_type": "code",
   "execution_count": 5,
   "metadata": {},
   "outputs": [
    {
     "data": {
      "text/plain": [
       "(-0.09999999999999998, 3.9)"
      ]
     },
     "execution_count": 5,
     "metadata": {},
     "output_type": "execute_result"
    }
   ],
   "source": [
    "absolute_trick(-0.6, 4, (-5,3))"
   ]
  },
  {
   "cell_type": "markdown",
   "metadata": {},
   "source": [
    "## Square trick\n",
    "\n",
    "Given a point $(p,q)$, and a line $y = w_1x + w_2$, the square trick for obtaining the new line is defined by the following equation: $y' = (w_1+p(q-q')\\alpha)x + (w_2+(q-q')\\alpha)$, in which $\\alpha$ would be the learning rate."
   ]
  }
 ],
 "metadata": {
  "kernelspec": {
   "display_name": "Python 3",
   "language": "python",
   "name": "python3"
  },
  "language_info": {
   "codemirror_mode": {
    "name": "ipython",
    "version": 3
   },
   "file_extension": ".py",
   "mimetype": "text/x-python",
   "name": "python",
   "nbconvert_exporter": "python",
   "pygments_lexer": "ipython3",
   "version": "3.8.5"
  }
 },
 "nbformat": 4,
 "nbformat_minor": 4
}
